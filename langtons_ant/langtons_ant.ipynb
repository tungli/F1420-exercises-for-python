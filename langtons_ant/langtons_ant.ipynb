{
 "cells": [
  {
   "cell_type": "markdown",
   "metadata": {},
   "source": [
    "# Langton's ant\n",
    "\n",
    "Read the [wikipedia page](https://en.wikipedia.org/wiki/Langton's_ant) and make sure you understand the \"Rules\" section before moving on.\n",
    "\n",
    "To represent Langton's ant there are two things that need to be implemented.\n",
    "\n",
    "First, since there are two colors of squares/cells we have to keep track of which cells are already marked by the ant.\n",
    "We need a grid that can be indexed by two values and contains values that represent either the \"Colored\" or \"Blank\" state.\n",
    "This can be done in multiple ways, perheps the most straight-forward in Python would be to use a list of lists.\n",
    "\n",
    "For example:\n",
    "```python\n",
    "grid = [\n",
    "       [\"Colored\", \"Blank\", \"Blank\"],\n",
    "       [\"Blank\", \"Colored\", \"Blank\"],\n",
    "       [\"Colored\", \"Blank\", \"Colored\"]\n",
    "       ]\n",
    "```\n",
    "The code above would correspond to the grid:\n",
    "\n",
    "\\image\n",
    "  \n",
    "To simplify further, since there are only two colors in the basic version of Langton's ant, we can simply use:\n",
    "```python\n",
    "grid = [\n",
    "       [True, False, False],\n",
    "       [False, True, False],\n",
    "       [True, False, True],\n",
    "       ]\n",
    "```\n",
    "Such a grid is indexable by two integers:\n",
    "```python\n",
    "grid[0][2] # is False\n",
    "```\n",
    "\n",
    "The second thing to be implemented is the movement of the ant.\n",
    "Keep in mind that the ant is both positioned somewhere on the grid (two indices) and also facing a direction (north/up, west/left, etc.)\n",
    "\n",
    "Below are functions that you will implement.\n",
    "Even further below is code that can be used to create a *gif* animation, provided that the functions are implemented correctly.\n",
    "Good luck!"
   ]
  },
  {
   "cell_type": "code",
   "execution_count": null,
   "metadata": {},
   "outputs": [],
   "source": [
    "def new_grid(size_x, size_y):\n",
    "    \"\"\"Creates a new grid, that is a list of lists,\n",
    "    with `False` values everywhere.\n",
    "    The grid has `size_x` columns and `size_y` rows.\n",
    "    \"\"\"\n",
    "\n",
    "def move_ant(x, y, direction, grid):\n",
    "    \"\"\"Based on the current position on the grid (`x`, `y`),\n",
    "    and the current direction `direction`, moves the ant forward.\n",
    "    \n",
    "    Direction is represented by one of the integers:\n",
    "      - 0: up\n",
    "      - 1: left\n",
    "      - 2: down\n",
    "      - 3: right\n",
    "    \n",
    "    Returns:\n",
    "    new_x - new position\n",
    "    new_y - new position\n",
    "    new_direction - new direction\n",
    "    \"\"\""
   ]
  },
  {
   "cell_type": "markdown",
   "metadata": {},
   "source": [
    "If you have implemented successfully the functions above, the code below should allow you to visualize the ant and the grid.\n",
    "\n",
    "**Packages `PIL`, `numpy`, `colorsys` need to be installed!** You can use Python package manager **pip** to install them."
   ]
  },
  {
   "cell_type": "code",
   "execution_count": null,
   "metadata": {},
   "outputs": [],
   "source": [
    "from PIL import Image\n",
    "import numpy as np\n",
    "import colorsys\n",
    "\n",
    "def plot_ant(grid_mat, ant_position, ant_direction):\n",
    "    \"\"\"Creates a picture of Lanton's ant.\n",
    "    \n",
    "    Inputs:\n",
    "      - `grid_mat`: list of lists containing True/False\n",
    "      - `ant_position`: sequence of two indices\n",
    "      - `ant_direction`: 0 - up, 1 - left, 2 - down, 3 - right\n",
    "      \n",
    "    Output is an image. You can save the output via the `save` method:\n",
    "    ```\n",
    "        <output>.save(filename.png)\n",
    "    ```\n",
    "    \"\"\"\n",
    "    n, m = len(grid_mat[0]), len(grid_mat)\n",
    "    cell = Image.open('img/grid_box.png')\n",
    "    ant = Image.open('img/ant.png').convert(\"RGBA\").resize(cell.size)\n",
    "    \n",
    "    grid_size = (n*cell.size[0], m*cell.size[1])\n",
    "    grid = Image.new(mode=\"RGBA\", size=grid_size)\n",
    "    \n",
    "    colored_cell = colorize(cell) \n",
    "    for i,x in enumerate(range(0, grid_size[0], cell.size[0])):\n",
    "        for j,y in enumerate(range(0, grid_size[1], cell.size[1])):\n",
    "            if grid_mat[j][i]:\n",
    "                c = colored_cell\n",
    "            else:\n",
    "                c = cell\n",
    "            grid.paste(c, box=(x,y))\n",
    "            \n",
    "    ant_pixels = tuple(map(lambda x: x[0]*x[1], zip(ant_position, cell.size)))\n",
    "    rotated_ant = ant.rotate(ant_direction*90)\n",
    "    grid.paste(rotated_ant, ant_pixels, mask=rotated_ant)\n",
    "\n",
    "    return grid.resize((480,480))\n",
    "\n",
    "def shift_hsv_color(im, hsv):\n",
    "    \"\"\"Shift the colors of an image by a sequence of values (hue, saturation, volume).\"\"\"\n",
    "    data = np.array(im.convert(\"HSV\"))\n",
    "    for j in range(data.shape[0]):\n",
    "        for i in range(data.shape[1]):\n",
    "            h,s,v = map(lambda x: ((x[0] + x[1]) %  256)/256, zip(data[j,i], hsv))\n",
    "            rgba = np.array(list(map(lambda x: x*255.9999, colorsys.hsv_to_rgb(h,s,v))))\n",
    "            data[j,i] = rgba\n",
    "    return Image.fromarray(data)\n",
    "\n",
    "def colorize(cell):\n",
    "    \"\"\"Defines the color of the modified cells.\"\"\"\n",
    "    return shift_hsv_color(cell, [-140,239,0])"
   ]
  },
  {
   "cell_type": "markdown",
   "metadata": {},
   "source": [
    "This should create an image of an empty 3x4 grid with an ant."
   ]
  },
  {
   "cell_type": "code",
   "execution_count": null,
   "metadata": {},
   "outputs": [],
   "source": [
    "img = plot_ant(new_grid(3,4), ant_position=(1,1), ant_direction=0)\n",
    "img"
   ]
  },
  {
   "cell_type": "markdown",
   "metadata": {},
   "source": [
    "Of course you can use a different grid with marked and different ant position and direction.\n",
    "\n",
    "To save the image use:\n",
    "```python\n",
    "img.save(\"myAnt.png\")\n",
    "```"
   ]
  },
  {
   "cell_type": "markdown",
   "metadata": {},
   "source": [
    "To reproduce the animation on wikipedia, you could run **(takes a long time to finish so be patient or set the number of steps lower)**:\n",
    "\n",
    "```python\n",
    "grid = new_grid(11,11)\n",
    "x,y,direction = 5,5,1\n",
    "\n",
    "frames = []\n",
    "for i in range(20):\n",
    "    frames.append(plot_ant(grid, (x,y), direction))\n",
    "    x,y,direction = move_ant(x, y, direction, grid)\n",
    "    print('Doing step {}'.format(i))\n",
    "    \n",
    "filename = 'ant_run.gif'\n",
    "print('Saving to {}'.format(filename))\n",
    "frames[0].save('ant_run.gif', format='GIF', append_images=frames[1:], save_all=True, duration=400, loop=0)\n",
    "```"
   ]
  },
  {
   "cell_type": "markdown",
   "metadata": {},
   "source": [
    "For more information about image processing in Python see the [Pillow package handbook](https://pillow.readthedocs.io/en/stable/handbook/tutorial.html) and for *gif* animation creation [this blog post](https://blog.zhaytam.com/2018/08/21/creating-gifs-using-python-pillow/).\n"
   ]
  }
 ],
 "metadata": {
  "kernelspec": {
   "display_name": "Python 3",
   "language": "python",
   "name": "python3"
  },
  "language_info": {
   "codemirror_mode": {
    "name": "ipython",
    "version": 3
   },
   "file_extension": ".py",
   "mimetype": "text/x-python",
   "name": "python",
   "nbconvert_exporter": "python",
   "pygments_lexer": "ipython3",
   "version": "3.7.3"
  }
 },
 "nbformat": 4,
 "nbformat_minor": 2
}
