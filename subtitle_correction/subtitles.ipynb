{
 "cells": [
  {
   "cell_type": "markdown",
   "metadata": {},
   "source": [
    "The first function is implemented for you. Make sure you understand what every line does before moving on."
   ]
  },
  {
   "cell_type": "code",
   "execution_count": 1,
   "metadata": {},
   "outputs": [],
   "source": [
    "def read_subtitle(srtfile):\n",
    "    \"\"\"\n",
    "    Reads an srt subtitle file and returns a list of dictionaries.\n",
    "    Dictionary keys are: 'start_time', 'end_time' and 'subtitle'.\n",
    "    \"\"\"\n",
    "    \n",
    "    #open the file\n",
    "    f = open(srtfile)\n",
    "    #read the contents of the file into `text`\n",
    "    text = f.read()\n",
    "    #close the file\n",
    "    f.close()\n",
    "    \n",
    "    #A note:\n",
    "    #File reading can be written more elegantly with the `with` statement:\n",
    "    #\n",
    "    #with open(srtfile) as f:\n",
    "    #    text = f.read()\n",
    "    \n",
    "    \n",
    "    #`str.strip` removes whitespace characters (' ', '\\n', '\\t') at the begining and at the end\n",
    "    text = text.strip()\n",
    "    #split at the blank line (after the subtitle itself)\n",
    "    entry_list = text.split('\\n\\n')\n",
    "    \n",
    "    dict_list = [] #this will be the output of the function\n",
    "    for i in entry_list:\n",
    "        lines = i.split('\\n')\n",
    "        #the first entry is the index. We don't need that, the list is already indexed.\n",
    "        #the second entry are the start time and the end time\n",
    "        t_start, t_end = lines[1].split(' --> ') \n",
    "        #this is short-hand to `t_start = lines[1].split(' --> ')[0]` and `t_end...`\n",
    "        \n",
    "        #merge the rest\n",
    "        sub = \"\\n\".join(lines[2:])\n",
    "        #create a dict...\n",
    "        d = {'start_time': t_start, 'end_time': t_end, 'subtitle': sub}\n",
    "        #...and append to the `dict_list`\n",
    "        dict_list.append(d)\n",
    "        \n",
    "    \n",
    "    return dict_list"
   ]
  },
  {
   "cell_type": "markdown",
   "metadata": {},
   "source": [
    "At this point you may wonder why we used a list of dicts instead, for example, a list of lists. Indeed, instead of:\n",
    "```python\n",
    "    d = {'start_time': t_start, 'end_time': t_end, 'subtitle': sub}\n",
    "```\n",
    "we could have had:\n",
    "```python\n",
    "    d = [ t_start, t_end, sub ] \n",
    "```\n",
    "Then we just need to remember that the 0th index is the start time etc.\n",
    "\n",
    "Naturally, there are many possible solutions to the task, so feel free to customize if you want."
   ]
  },
  {
   "cell_type": "markdown",
   "metadata": {},
   "source": [
    "We can test the function on a small sample provided on the *matroska* webpage:"
   ]
  },
  {
   "cell_type": "code",
   "execution_count": 2,
   "metadata": {},
   "outputs": [
    {
     "data": {
      "text/plain": [
       "{'start_time': '00:02:17,440',\n",
       " 'end_time': '00:02:20,375',\n",
       " 'subtitle': \"Senator, we're making\\nour final approach into Coruscant.\"}"
      ]
     },
     "execution_count": 2,
     "metadata": {},
     "output_type": "execute_result"
    }
   ],
   "source": [
    "a = read_subtitle('sample.txt')\n",
    "a[0]"
   ]
  },
  {
   "cell_type": "markdown",
   "metadata": {},
   "source": [
    "Now that we have the subtitles organized we might want to define functions that operate on the structure we created. \n",
    "The first thing that comes to mind is a \"find\" function which I implemented for you below:"
   ]
  },
  {
   "cell_type": "code",
   "execution_count": 6,
   "metadata": {},
   "outputs": [],
   "source": [
    "def find_subtitle(subtitles, s):\n",
    "    \"\"\"\n",
    "    Returns a list of indices where the subtitles contain the string `s`\n",
    "    \"\"\"\n",
    "    indices = []\n",
    "    for i,ii in enumerate(subtitles): #`i` is the index, `ii` the value, i.e. subtitle dict\n",
    "        if s in ii['subtitle']:\n",
    "            indices.append(i)\n",
    "    \n",
    "    return indices"
   ]
  },
  {
   "cell_type": "markdown",
   "metadata": {},
   "source": [
    "Test the find function, there is a subtitle file (only a small sample to avoid copyright issues) ready for you in this directory.\n",
    "Here are some suggestions you can search for:  'lobster', 'bird', 'rabbit'."
   ]
  },
  {
   "cell_type": "code",
   "execution_count": null,
   "metadata": {},
   "outputs": [],
   "source": [
    "### YOUR TESTS ###"
   ]
  },
  {
   "cell_type": "code",
   "execution_count": 3,
   "metadata": {},
   "outputs": [],
   "source": [
    "def write_subtitle(filename,dict_list):\n",
    "    \"\"\"\n",
    "    Write subtitles in `dict_list` to the file named `filename` in srt format.\n",
    "    \"\"\"\n",
    "    \n",
    "    ###############################\n",
    "    #         MISSING CODE        #\n",
    "    ###############################\n",
    "    \n",
    "    #open file, \"w\" for \"write\"\n",
    "    f = open(filename,\"w\")\n",
    "    f.write(YOUR_STRING)\n",
    "    f.close()\n",
    "    #Note: this can be written using the `with` statement as was noted in the reader function.\n",
    "    \n",
    "    return None #this line is can be left out"
   ]
  },
  {
   "cell_type": "markdown",
   "metadata": {},
   "source": [
    "As you might have guessed, you will implement the body of this function yourself. Good luck!\n",
    "\n",
    "Test your function before moving on."
   ]
  },
  {
   "cell_type": "markdown",
   "metadata": {},
   "source": [
    "Next, we will need to correct the timestamps. Before we do that however, it is convenient to define 2 utility functions:"
   ]
  },
  {
   "cell_type": "code",
   "execution_count": 7,
   "metadata": {},
   "outputs": [],
   "source": [
    "def time_to_secs(time):\n",
    "    \"\"\"\n",
    "    Input: subtitle start or end time as a `str` with the format 'hours:minutes:seconds,miliseconds'\n",
    "    Output: `float` time in seconds\n",
    "    \"\"\"\n",
    "    ###############################\n",
    "    #         MISSING CODE        #\n",
    "    ###############################"
   ]
  },
  {
   "cell_type": "code",
   "execution_count": 8,
   "metadata": {},
   "outputs": [],
   "source": [
    "def secs_to_time(secs):\n",
    "    \"\"\"\n",
    "    Inverse function to `time_to_secs()`. Returns a string.\n",
    "    \"\"\"\n",
    "    hours = int(secs/3600) #`int()` rounds down\n",
    "    ###############################\n",
    "    #         MISSING CODE        #\n",
    "    ###############################"
   ]
  },
  {
   "cell_type": "markdown",
   "metadata": {},
   "source": [
    "Again, test your functions after implementing them."
   ]
  },
  {
   "cell_type": "markdown",
   "metadata": {},
   "source": [
    "To adjust the subtitles times you would usually want to choose 2 subtitles and provide the corresponding (correct) times. \n",
    "Assuming that the wrong subtitle times are related to the correct times by a **linear** function, these will be enough.\n",
    "We will use the `start_time` for the adjustment."
   ]
  },
  {
   "cell_type": "code",
   "execution_count": 3,
   "metadata": {},
   "outputs": [],
   "source": [
    "def adjust(subs, ind1, correct_time1, ind2, correct_time2):\n",
    "    \"\"\"\n",
    "    Adjusts subtitles.\n",
    "    Input:\n",
    "        ind -- index of subtitle in subs\n",
    "        time -- correct start time for subtitle, either in seconds or hh:mm:ss,miliseconds format\n",
    "    \"\"\"\n",
    "    #decide whether the times are in secs (float) or hh:mm:ss,milisecs format based on the type\n",
    "    if type(correct_time1) is str:\n",
    "        correct_time1 = time_to_secs(correct_time1)\n",
    "    if type(correct_time2) is str:\n",
    "        correct_time2 = time_to_secs(correct_time2)\n",
    "    \n",
    "    #get the corresponding subtitle times\n",
    "    wrong_time1 = time_to_secs(subs[ind1]['start_time'])\n",
    "    wrong_time2 = time_to_secs(subs[ind2]['start_time'])\n",
    "    \n",
    "    #the following is based on a linear relation:\n",
    "    #   `wrong_time = a*correct_time + b\n",
    "    a = (wrong_time2 - wrong_time1)/(correct_time2 - correct_time1)\n",
    "    b = (wrong_time2 - a*correct_time2)\n",
    "    \n",
    "    def linear_correction(time):\n",
    "        return secs_to_time((time_to_secs(x) - b)/a)\n",
    "    \n",
    "    for i in subs:\n",
    "        i['start_time'] = linear_correction(i['start_time'])\n",
    "        i['end_time'] = linear_correction(i['end_time'])\n",
    "    \n",
    "    return None #this line is can be left out\n",
    "    #returns None since dictionaries and lists can be and are changed in a function like this"
   ]
  },
  {
   "cell_type": "markdown",
   "metadata": {},
   "source": [
    "If all goes well at this point you have a script which corrects subtitles :)"
   ]
  }
 ],
 "metadata": {
  "kernelspec": {
   "display_name": "Python 3",
   "language": "python",
   "name": "python3"
  },
  "language_info": {
   "codemirror_mode": {
    "name": "ipython",
    "version": 3
   },
   "file_extension": ".py",
   "mimetype": "text/x-python",
   "name": "python",
   "nbconvert_exporter": "python",
   "pygments_lexer": "ipython3",
   "version": "3.7.2"
  }
 },
 "nbformat": 4,
 "nbformat_minor": 2
}
